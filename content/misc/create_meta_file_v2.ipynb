{
 "cells": [
  {
   "cell_type": "code",
   "execution_count": 19,
   "metadata": {},
   "outputs": [],
   "source": [
    "import os\n",
    "import json\n",
    "import re\n",
    "\n",
    "import frontmatter\n",
    "\n",
    "def get_first_sentence(text):\n",
    "    # Regular expression to match the end of a sentence (period, question mark, or exclamation mark)\n",
    "    match = re.search(r'([.!?])\\s', text)\n",
    "    if match:\n",
    "        end = match.start() + 1\n",
    "        return text[:end].replace('\\n', ' ')\\\n",
    "            .replace('\\u2019', \"'\")\\\n",
    "            .replace(' #', '')\\\n",
    "            .replace('#', '')\\\n",
    "            .replace ('  ', ' ')\\\n",
    "            .strip()\n",
    "    else:\n",
    "        return text  # Return the whole text if no sentence-ending punctuation is found\n",
    "\n",
    "def parse_frontmatter(directory):\n",
    "    articles = []\n",
    "    for filename in os.listdir(directory):\n",
    "        if filename.endswith(\".md\"):\n",
    "            with open(os.path.join(directory, filename), 'r') as file:\n",
    "                # Parse front matter and content\n",
    "                post = frontmatter.load(file)\n",
    "                first_sentence = get_first_sentence(post.content.strip())  # Get first sentence of the content\n",
    "                article_info = {\n",
    "                    \"title\": post.metadata.get(\"title\", \"\").replace('\\u2019', \"'\"),\n",
    "                    \"subTitle\": post.metadata.get(\"subTitle\", \"\"),\n",
    "                    \"category\": post.metadata.get(\"category\", \"\"),\n",
    "                    \"preview\": first_sentence\n",
    "                }\n",
    "                articles.append(article_info)\n",
    "    return articles\n",
    "\n",
    "# Directories to parse\n",
    "directories = [\"../general\", \"../private-equity\"]\n",
    "\n",
    "all_articles = []\n",
    "for directory in directories:\n",
    "    all_articles.extend(parse_frontmatter(directory))\n",
    "\n",
    "# Write to JSON file\n",
    "with open('meta_articles.json', 'w') as json_file:\n",
    "    json.dump({\"articles\": all_articles}, json_file, indent=4)\n"
   ]
  },
  {
   "cell_type": "code",
   "execution_count": null,
   "metadata": {},
   "outputs": [],
   "source": []
  }
 ],
 "metadata": {
  "kernelspec": {
   "display_name": "Python 3",
   "language": "python",
   "name": "python3"
  },
  "language_info": {
   "codemirror_mode": {
    "name": "ipython",
    "version": 3
   },
   "file_extension": ".py",
   "mimetype": "text/x-python",
   "name": "python",
   "nbconvert_exporter": "python",
   "pygments_lexer": "ipython3",
   "version": "3.10.10"
  }
 },
 "nbformat": 4,
 "nbformat_minor": 2
}
