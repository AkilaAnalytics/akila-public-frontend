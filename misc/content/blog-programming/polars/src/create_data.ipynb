{
 "cells": [
  {
   "cell_type": "code",
   "execution_count": 10,
   "metadata": {},
   "outputs": [],
   "source": [
    "import math\n",
    "import pandas as pd\n",
    "\n",
    "# load data\n",
    "df = pd.read_csv('../data/california-housing.csv')\n",
    "\n",
    "# create DF wiht 100 thousand rows \n",
    "multiple = math.ceil( 100_000 / df.shape[0] ) \n",
    "dfs = [df] * multiple\n",
    "df2 = pd.concat(dfs, ignore_index=True)\n",
    "df2.to_csv('../data/california-housing-100-thousand-rows.csv', index=False)\n",
    "print('done')\n",
    "\n",
    "# create DF with 1 million rows\n",
    "multiple = math.ceil( 1_000_000 / df.shape[0] ) \n",
    "dfs = [df] * multiple\n",
    "df2 = pd.concat(dfs, ignore_index=True)\n",
    "df2.to_csv('../data/california-housing-1-million-rows.csv', index=False)\n",
    "print('done')\n",
    "\n",
    "# create DF with 100 million rows \n",
    "multiple = math.ceil( 100_000_000 / df.shape[0] ) \n",
    "dfs = [df] * multiple\n",
    "df2 = pd.concat(dfs, ignore_index=True)\n",
    "df2.to_csv('../data/california-housing-1-billion-rows.csv', index=False)\n"
   ]
  },
  {
   "cell_type": "code",
   "execution_count": 33,
   "metadata": {},
   "outputs": [
    {
     "name": "stdout",
     "output_type": "stream",
     "text": [
      "Time per iteration (seconds): 0.0037107457500096643\n"
     ]
    }
   ],
   "source": [
    "import timeit\n",
    "\n",
    "n_iterations = 1_000\n",
    "def time_groupby_average(df):\n",
    "    setup_code = '''\n",
    "import pandas as pd\n",
    "import timeit\n",
    "    '''\n",
    "    timing_code = '''\n",
    "grouped = df.groupby('ocean_proximity')['population'].mean()\n",
    "    '''\n",
    "    timeit_result = timeit.timeit(stmt=timing_code, setup=setup_code, globals={'df': df}, number=n_iterations)\n",
    "    return timeit_result\n",
    "\n",
    "# Example usage:\n",
    "result = time_groupby_average(df)\n",
    "print( f'Time per iteration (seconds): { result / n_iterations }' )\n"
   ]
  }
 ],
 "metadata": {
  "kernelspec": {
   "display_name": "Python 3",
   "language": "python",
   "name": "python3"
  },
  "language_info": {
   "codemirror_mode": {
    "name": "ipython",
    "version": 3
   },
   "file_extension": ".py",
   "mimetype": "text/x-python",
   "name": "python",
   "nbconvert_exporter": "python",
   "pygments_lexer": "ipython3",
   "version": "3.10.10"
  }
 },
 "nbformat": 4,
 "nbformat_minor": 2
}
